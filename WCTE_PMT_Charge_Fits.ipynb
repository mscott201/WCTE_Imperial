{
 "cells": [
  {
   "cell_type": "code",
   "execution_count": 1,
   "id": "a555cd79-b170-45e7-8845-9febb31c22f2",
   "metadata": {},
   "outputs": [
    {
     "name": "stdout",
     "output_type": "stream",
     "text": [
      "3.11.5\n"
     ]
    }
   ],
   "source": [
    "import uproot\n",
    "import numpy as np\n",
    "import matplotlib.pyplot as plt\n",
    "import awkward as ak\n",
    "import glob\n",
    "import re\n",
    "from matplotlib import colors\n",
    "import collections\n",
    "import matplotlib\n",
    "import scipy.stats as stats\n",
    "import math\n",
    "import lmfit\n",
    "import pandas as pd\n",
    "\n",
    "#for event display\n",
    "import sys\n",
    "#path to event display directory - change with where your path is \n",
    "# sys.path.append(\"C:/Users/ms2609/Downloads/WCTE_event_display-main/\")\n",
    "import EventDisplay\n",
    "import matplotlib.colors as colors\n",
    "from platform import python_version\n",
    "print(python_version())"
   ]
  },
  {
   "cell_type": "markdown",
   "id": "97a23478-3f78-4869-83b5-f098805e1c08",
   "metadata": {},
   "source": [
    "## Load in data"
   ]
  },
  {
   "cell_type": "markdown",
   "id": "31171e02-3fbb-45db-b295-bdb2d36d9325",
   "metadata": {},
   "source": [
    "Loads in the data, break in the loop to only load the first 10 files - can be tuned to look at specific files. Notebook will crash if too much data is loaded - loading only hits and not waveforms is an option to reduce memory"
   ]
  },
  {
   "cell_type": "code",
   "execution_count": 2,
   "id": "96943902-8ffb-4b22-848a-9ca2f7857cc5",
   "metadata": {},
   "outputs": [
    {
     "name": "stdout",
     "output_type": "stream",
     "text": [
      "['..\\\\WCTE_offline_R1738S0P12.root']\n",
      "Loading: ..\\WCTE_offline_R1738S0P12.root\n",
      "Total events loaded: 56438\n"
     ]
    }
   ],
   "source": [
    "runNumber = 1738\n",
    "#f'../data/2025_LaserBall/WCTE_offline_R{run}S*P*.root'\n",
    "file_pattern = \"../WCTE_offline_R\"+str(runNumber)+\"S0P*.root\"\n",
    "file_list = glob.glob(file_pattern)\n",
    "print (file_list)\n",
    "\n",
    "def extract_p_number(file_name):\n",
    "    match = re.search(r'P(\\d+)\\.root$', file_name)  # Extract number after 'P'\n",
    "    return int(match.group(1)) if match else float('inf')  # Convert to int, default high if no match\n",
    "\n",
    "file_list = sorted(file_list, key=extract_p_number)\n",
    "# print(file_list)\n",
    "\n",
    "all_events_list = []\n",
    "\n",
    "# Loop over files and load data\n",
    "for ifile, file_path in enumerate(file_list):\n",
    "    if ifile>9:\n",
    "        break\n",
    "    print(f\"Loading: {file_path}\")\n",
    "    \n",
    "    with uproot.open(file_path) as root_file:\n",
    "        tree = root_file[\"WCTEReadoutWindows\"]\n",
    "        events = tree.arrays(library=\"ak\")  # Load branches as awkward arrays\n",
    "        all_events_list.append(events)  # Store in list\n",
    "\n",
    "# Concatenate everything into a single awkward array\n",
    "if all_events_list:\n",
    "    all_events = ak.concatenate(all_events_list,axis=0)\n",
    "    \n",
    "print(f\"Total events loaded: {len(all_events)}\")"
   ]
  },
  {
   "cell_type": "code",
   "execution_count": 3,
   "id": "d4e38b72",
   "metadata": {},
   "outputs": [],
   "source": [
    "def get_run(infiles):\n",
    "    files = infiles\n",
    "    n_windows = 0\n",
    "    n_hits = 0\n",
    "    for i, f in enumerate(files):\n",
    "        tree = uproot.open(f+\":WCTEReadoutWindows\")\n",
    "        n_windows += tree.num_entries\n",
    "        n_hits += ak.count(tree['hit_mpmt_card_ids'].array())\n",
    "    window_times = np.zeros(n_windows, dtype=np.float64)\n",
    "    event_numbers = np.zeros(n_windows, dtype=np.int32)\n",
    "    window_part_files = np.zeros(n_windows, dtype=np.int16)\n",
    "    hit_mpmt_card_ids = np.zeros(n_hits, dtype=np.int16)\n",
    "    hit_pmt_channel_ids = np.zeros(n_hits, dtype=np.int8)\n",
    "    hit_pmt_times = np.memmap(\"C:/Users/ms2609/Downloads/hit_pmt_times.memmap\", dtype=np.float64, mode='w+', shape=n_hits)\n",
    "    hit_pmt_charges = np.memmap(\"C:/Users/ms2609/Downloads/hit_pmt_charges.memmap\", dtype=np.float32, mode='w+', shape=n_hits)\n",
    "    hit_part_files = np.zeros(n_hits, dtype=np.int16)\n",
    "    max_event_number = -1\n",
    "    event_count = 0\n",
    "    hit_count = 0\n",
    "    for i, f in enumerate(files):\n",
    "        print(f\"  loading data from file {i}: {f}\")\n",
    "        tree = uproot.open(f+\":WCTEReadoutWindows\")\n",
    "        \n",
    "        next_event_count = event_count + tree.num_entries\n",
    "        window_part_files[event_count:next_event_count] = i\n",
    "        file_window_times = tree['window_time'].array()\n",
    "        window_times[event_count:next_event_count] = file_window_times\n",
    "        event_numbers[event_count:next_event_count] = tree['event_number'].array() + max_event_number + 1\n",
    "        max_event_number = np.max(event_numbers[:next_event_count])\n",
    "\n",
    "        card_ids = ak.flatten(tree['hit_mpmt_card_ids'].array())\n",
    "        next_hit_count = hit_count+len(card_ids)\n",
    "        hit_mpmt_card_ids[hit_count:next_hit_count] = card_ids\n",
    "        hit_pmt_channel_ids[hit_count:next_hit_count] = ak.flatten(tree['hit_pmt_channel_ids'].array())\n",
    "        hit_pmt_times[hit_count:next_hit_count] = ak.flatten(tree['hit_pmt_times'].array()+file_window_times)\n",
    "        hit_pmt_charges[hit_count:next_hit_count] = ak.flatten(tree['hit_pmt_charges'].array())\n",
    "        hit_part_files[hit_count:next_hit_count] = i\n",
    "\n",
    "        event_count = next_event_count\n",
    "        hit_count = next_hit_count\n",
    "\n",
    "    return hit_pmt_times, hit_pmt_charges, hit_mpmt_card_ids, hit_pmt_channel_ids, hit_part_files, window_times, event_numbers, window_part_files"
   ]
  },
  {
   "cell_type": "code",
   "execution_count": 4,
   "id": "5b28ac12",
   "metadata": {},
   "outputs": [],
   "source": [
    "def dataQuality():\n",
    "    max_good_t = np.max(window_times[window_times<np.quantile(window_times, 0.99)*1.5])+1\n",
    "    good_times = hit_pmt_times < max_good_t\n",
    "    good_card_ids = (hit_mpmt_card_ids > 0) & (hit_mpmt_card_ids < 130) & (hit_mpmt_card_ids !=106)\n",
    "    good = good_times & good_card_ids\n",
    "    trigger_hits = (hit_mpmt_card_ids==131)&(hit_pmt_channel_ids==5) & good_times\n",
    "    \n",
    "    return good, trigger_hits"
   ]
  },
  {
   "cell_type": "code",
   "execution_count": 5,
   "id": "f3c634fa",
   "metadata": {},
   "outputs": [
    {
     "name": "stdout",
     "output_type": "stream",
     "text": [
      "  loading data from file 0: ..\\WCTE_offline_R1738S0P12.root\n"
     ]
    }
   ],
   "source": [
    "hit_pmt_times, hit_pmt_charges, hit_mpmt_card_ids, hit_pmt_channel_ids, hit_part_files, window_times, event_numbers, window_part_files = get_run(file_list)\n",
    "good, trigger_hits = dataQuality()"
   ]
  },
  {
   "cell_type": "code",
   "execution_count": 6,
   "id": "dfd9e9d9",
   "metadata": {},
   "outputs": [],
   "source": [
    "def gaussian(x,Qn,sigman):\n",
    "    norm = np.sqrt(2/np.pi)/(sigman*(1+np.math.erf(Qn / (np.sqrt(2) * sigman))))\n",
    "    return norm*np.exp(-(x-Qn)**2/(2*sigman**2))\n",
    "\n",
    "def poisson_term(mu,n):\n",
    "    return mu**n * np.exp(-mu)/np.vectorize(np.math.factorial)(n)\n",
    "\n",
    "def pmtresponse(xx,N, Q1, s1, mu, w, alpha):\n",
    "    x = xx\n",
    "    \n",
    "    signal = 0\n",
    "    for n in range(1,3):\n",
    "        Qn = n*Q1\n",
    "        sigman = np.sqrt(n)*s1\n",
    "        poisson = poisson_term(mu,n)\n",
    "        gauss_term = gaussian(x,Qn,sigman)\n",
    "        exp_term = alpha/2 * np.exp(-alpha * (x - Qn - alpha*sigman**2/2))\n",
    "        erf1 = np.math.erf(abs(n*Q1 + sigman*sigman*alpha)/(sigman*np.sqrt(2)))\n",
    "        erfarg = x - Qn - sigman*sigman*alpha\n",
    "        erf2 = np.sign(erfarg)*np.vectorize(np.math.erf)(abs(erfarg)/(sigman*np.sqrt(2)))\n",
    "        IGn_term = exp_term*(erf1 + erf2)\n",
    "        signal += poisson*((1-w)*gauss_term + w*IGn_term)\n",
    "    return N*signal\n",
    "\n",
    "def pmtbackgroundresponse(xx,N, Q1, s1, mu, w, alpha):\n",
    "    x = xx\n",
    "    # N, Q1, s1, mu, w, alpha = p\n",
    "    \n",
    "    signal = 0\n",
    "    for n in range(1,3):\n",
    "        Qn = n*Q1\n",
    "        sigman = np.sqrt(n)*s1\n",
    "        poisson = poisson_term(mu,n)\n",
    "        gauss_term = gaussian(x,Qn,sigman)\n",
    "        erfarg = x - Qn - sigman*sigman*alpha\n",
    "        exp_term = alpha/2 * np.exp(-alpha * erfarg)\n",
    "        erf1 = np.math.erf(abs(Qn + sigman*sigman*alpha)/(sigman*np.sqrt(2)))\n",
    "        erf2 = np.sign(erfarg)*np.vectorize(np.math.erf)(abs(erfarg)/(sigman*np.sqrt(2)))\n",
    "        IGn_term = exp_term*(erf1 + erf2)\n",
    "        signal += poisson*w*IGn_term\n",
    "    return N*signal\n",
    "\n",
    "def pmtG(xx,N,Q1,s1,mu,w,alpha):\n",
    "    x = xx\n",
    "    \n",
    "    signal = 0\n",
    "    for n in range(1,3):\n",
    "        Qn = n*Q1\n",
    "        sigman = np.sqrt(n)*s1\n",
    "        poisson = poisson_term(mu,n)\n",
    "        gauss_term = gaussian(x,Qn,sigman)\n",
    "        signal += poisson*((1-w)*gauss_term)\n",
    "    return N*signal\n",
    "\n",
    "def pmtG_n(xx,N, Q1, s1, mu, w, alpha, n):\n",
    "    x = xx\n",
    "    #N, Q1, s1, mu, w, alpha, n = p\n",
    "    \n",
    "    Qn = n*Q1\n",
    "    sigman = np.sqrt(n)*s1\n",
    "    poisson = poisson_term(mu,n)\n",
    "    gauss_term = gaussian(x,Qn,sigman)\n",
    "    signal = poisson*((1-w)*gauss_term)\n",
    "    \n",
    "    return N*signal\n",
    "\n",
    "pmtresponse_model = lmfit.Model(pmtresponse)\n",
    "params_all = pmtresponse_model.make_params(N=1e5, Q1=200, s1=40, mu=2, w=0.1,alpha=0.001)\n",
    "\n",
    "pmtbackgroundresponse_model = lmfit.Model(pmtbackgroundresponse)\n",
    "params_bkg = pmtbackgroundresponse_model.make_params(N=1e5, Q1=200, s1=40, mu=2,w=1, alpha=0.001)\n",
    "\n",
    "pmtG_model = lmfit.Model(pmtG)\n",
    "params_2pe = pmtG_model.make_params(N=1e5, Q1=200, s1=40, mu=2, w=0, alpha=0.001) \n",
    "\n",
    "pmtG_n_model = lmfit.Model(pmtG_n)\n",
    "params_pmt = pmtG_n_model.make_params(N=1e5, Q1=200, s1=40, mu=2, w=0, alpha=0.001, n=1) \n"
   ]
  },
  {
   "cell_type": "code",
   "execution_count": 33,
   "id": "50f8ef28",
   "metadata": {},
   "outputs": [],
   "source": [
    "def fit_PMT_calibration(cards):                                                                  \n",
    "    chanrange = 19                                                                                   \n",
    "\n",
    "    bins=np.arange(0.5,10000.5,1)                                                                    \n",
    "    bin_centres = bins[:-1]+(bins[1]-bins[0])/2                                                      \n",
    "                                                                                                     \n",
    "    result_df = pd.DataFrame([],columns=['card','channel','N','Q1','s1','mu','w','alpha','r2','fit range'])                                                                                              \n",
    "    \n",
    "    for card in cards:\n",
    "        count = 0                                                                                            \n",
    "\n",
    "        #fig, ax = plt.subplots(4,5, figsize=(24,20),sharex=True,sharey=True)                             \n",
    "        #fig.suptitle(f\"card{card}\")                                                                      \n",
    "        hasdata = 0                                                                                      \n",
    "        ylim = 1                                                                                       \n",
    "        for ch in range(chanrange):                                                                      \n",
    "            this_pmt_charge = charge[(hit_mpmt_card_ids==card)&(hit_pmt_channel_ids==ch)&good]     \n",
    "            if len(this_pmt_charge) > 1:                                                                 \n",
    "                hasdata = 1                                                                              \n",
    "                                                                                                         \n",
    "                # Histogram                                                                              \n",
    "                hist,bins = np.histogram(this_pmt_charge, bins=bins)                           \n",
    "                                                                                                     \n",
    "                # Initialize parameters                                                                  \n",
    "                params_0 = pmtresponse_model.make_params(N=1e5, Q1=200, s1=40, mu=2, w=0.1,alpha=0.001)  \n",
    "                params_0['w'].set(min=0, max=1)   # w must be between 0 and 1                            \n",
    "                                                                                                     \n",
    "                try:                                                                                     \n",
    "                    # Try fitting the data                                                               \n",
    "                    r2 = 0                                                                               \n",
    "                    range_upper_lim = 1500                                                               \n",
    "                    count = 0                                                                            \n",
    "                    while r2 < 0.992 and count < 4:   \n",
    "                        y = hist[50:range_upper_lim]\n",
    "                        x = bin_centres[50:range_upper_lim]\n",
    "    \n",
    "                        result = pmtresponse_model.fit(y,params_0,xx=x)\n",
    "\n",
    "                        # Check if fit converged                                                         \n",
    "                        if result.success:\n",
    "                            # Prepare fit label                                                          \n",
    "                            result_N = result.best_values[\"N\"]\n",
    "                            result_Q1 = result.best_values[\"Q1\"]\n",
    "                            result_s1 = result.best_values[\"s1\"]\n",
    "                            result_mu = result.best_values[\"mu\"]\n",
    "                            result_w = result.best_values[\"w\"]\n",
    "                            result_alpha = result.best_values[\"alpha\"]\n",
    "                            r2 = get_R_square(y, result)\n",
    "\n",
    "                        else:\n",
    "                            print(f\"Fit failed for channel {ch}\")\n",
    "\n",
    "                        range_upper_lim +=500\n",
    "                        count = count +1\n",
    "                        \n",
    "                    result_df.loc[len(result_df)] = [card,ch,result_N,result_Q1,result_s1,result_mu,result_w,result_alpha,r2,range_upper_lim]\n",
    "\n",
    "                except Exception as e:\n",
    "                    # Catch any errors and continue                                                      \n",
    "                    print(f\"Error fitting channel {ch}: {e}\")\n",
    "\n",
    "    return result_df"
   ]
  },
  {
   "cell_type": "code",
   "execution_count": 34,
   "id": "5812319c",
   "metadata": {},
   "outputs": [],
   "source": [
    "def get_R_square(y,Result):\n",
    "    residuals = Result.residual\n",
    "    ss_res = np.sum(residuals**2)  # Residual sum of squares\n",
    "    ss_tot = np.sum((y - np.mean(y))**2)  # Total sum of squares\n",
    "    r_squared = 1 - (ss_res / ss_tot)\n",
    "    return r_squared"
   ]
  },
  {
   "cell_type": "code",
   "execution_count": 37,
   "id": "bfeb96a9",
   "metadata": {},
   "outputs": [
    {
     "name": "stdout",
     "output_type": "stream",
     "text": [
      "Error fitting channel 3: The model function generated NaN values and the fit aborted! Please check your model function and/or set boundaries on parameters where applicable. In cases like this, using \"nan_policy='omit'\" will probably not work.\n",
      "Fit failed for channel 2\n",
      "Error fitting channel 11: The model function generated NaN values and the fit aborted! Please check your model function and/or set boundaries on parameters where applicable. In cases like this, using \"nan_policy='omit'\" will probably not work.\n"
     ]
    }
   ],
   "source": [
    "charge = hit_pmt_charges.astype(np.float32)\n",
    "results = fit_PMT_calibration(set(hit_mpmt_card_ids))"
   ]
  },
  {
   "cell_type": "code",
   "execution_count": 38,
   "id": "ed74058c",
   "metadata": {},
   "outputs": [],
   "source": [
    "results.to_pickle(\"charge_fits\")"
   ]
  }
 ],
 "metadata": {
  "kernelspec": {
   "display_name": "Python 3 (ipykernel)",
   "language": "python",
   "name": "python3"
  },
  "language_info": {
   "codemirror_mode": {
    "name": "ipython",
    "version": 3
   },
   "file_extension": ".py",
   "mimetype": "text/x-python",
   "name": "python",
   "nbconvert_exporter": "python",
   "pygments_lexer": "ipython3",
   "version": "3.11.5"
  }
 },
 "nbformat": 4,
 "nbformat_minor": 5
}
